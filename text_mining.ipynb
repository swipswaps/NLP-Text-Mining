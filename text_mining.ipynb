{
 "cells": [
  {
   "cell_type": "code",
   "execution_count": 78,
   "metadata": {},
   "outputs": [],
   "source": [
    "# Import Libraries.\n",
    "import numpy as np\n",
    "import pandas as pd\n",
    "from sklearn.feature_extraction.text import TfidfVectorizer, CountVectorizer\n",
    "from sklearn.decomposition import NMF, TruncatedSVD, LatentDirichletAllocation\n",
    "from sklearn.preprocessing import OrdinalEncoder"
   ]
  },
  {
   "cell_type": "code",
   "execution_count": 2,
   "metadata": {},
   "outputs": [],
   "source": [
    "# Define Functions.\n",
    "def print_top_words(model, feature_names, n_top_words):\n",
    "    for topic_idx, topic in enumerate(model.components_):\n",
    "        message = \"Topic #%d: \" % topic_idx\n",
    "        message += \" \".join([feature_names[i]\n",
    "                             for i in topic.argsort()[:-n_top_words - 1:-1]])\n",
    "        print(message)\n",
    "    print()"
   ]
  },
  {
   "cell_type": "code",
   "execution_count": 3,
   "metadata": {},
   "outputs": [],
   "source": [
    "# Import Data.\n",
    "filename = 'wiki_movie_plots_deduped.csv'\n",
    "data = pd.read_csv(filename, sep=',',header=0,index_col=False)"
   ]
  },
  {
   "cell_type": "code",
   "execution_count": 89,
   "metadata": {},
   "outputs": [],
   "source": [
    "# Parameters.\n",
    "n_features = 500 # amount of distinct words / vocabulary\n",
    "n_components = 10 # amount of topics\n",
    "n_top_words = 10 # highest frequency words in topics"
   ]
  },
  {
   "cell_type": "code",
   "execution_count": 90,
   "metadata": {},
   "outputs": [],
   "source": [
    "# Term Frequency-Inverse Document Frequency (Matrix Calculation).\n",
    "samples = data.Plot # text samples\n",
    "labels = OrdinalEncoder().fit_transform(np.array(data.Genre).reshape(-1,1)) # genres\n",
    "\n",
    "# Convert a collection of raw documents to a matrix of TF-IDF features (samples x features).\n",
    "# tf-idf: relative frequency of a word in a document weighted by the discriminancy of a word between document classes\n",
    "tfidf_vectorizer = TfidfVectorizer(max_df=0.30, min_df=2,max_features=n_features,stop_words='english')\n",
    "\n",
    "# Convert a collection of text documents to a matrix of token counts.\n",
    "#tf_vectorizer = CountVectorizer(max_df=0.95, min_df=4,max_features=n_features,stop_words='english')\n",
    "\n",
    "# Fit-Transform.\n",
    "tfidf = tfidf_vectorizer.fit_transform(samples) # term frequency weighted by document discriminancy, samples x features \n",
    "# tf = tf_vectorizer.fit_transform(samples) # term frequency, samples x features "
   ]
  },
  {
   "cell_type": "code",
   "execution_count": 97,
   "metadata": {},
   "outputs": [
    {
     "name": "stdout",
     "output_type": "stream",
     "text": [
      "Topic #0: finds tells takes away goes tries night home way day\n",
      "Topic #1: father daughter family mother son married marriage marry falls comes\n",
      "Topic #2: film story set movie people world plot played begins follows\n",
      "Topic #3: police killed kill murder officer kills death man revenge killing\n",
      "Topic #4: war world army ship group king attack battle return men\n",
      "Topic #5: wife woman husband man married young wealthy john affair turns\n",
      "Topic #6: school friends student girl high college tom teacher year win\n",
      "Topic #7: family years son year father mother younger working brother home\n",
      "Topic #8: money work way job make takes new gets wants works\n",
      "Topic #9: young man new york old town woman year named father\n",
      "\n"
     ]
    }
   ],
   "source": [
    "# Non-negative Matrix Factorization.\n",
    "nmf =  NMF(n_components=n_components, random_state=1,beta_loss='kullback-leibler', solver='mu', max_iter=1000, alpha=.4,l1_ratio=.5)\n",
    "\n",
    "# Fit NMF.\n",
    "nmf.fit(tfidf)\n",
    "\n",
    "# Print Top Words for Topics.\n",
    "tfidf_feature_names = tfidf_vectorizer.get_feature_names()\n",
    "print_top_words(nmf, tfidf_feature_names, n_top_words)"
   ]
  },
  {
   "cell_type": "code",
   "execution_count": 98,
   "metadata": {},
   "outputs": [
    {
     "name": "stdout",
     "output_type": "stream",
     "text": [
      "Topic #0: father family village son mother daughter story marriage married wife\n",
      "Topic #1: jack joe david john harry paul johnny peter nick george\n",
      "Topic #2: school new friends home father film day tells house mother\n",
      "Topic #3: film tony mike mary story plot martin lead race movie\n",
      "Topic #4: raja lee ray richard killer murder detective murdered revenge crime\n",
      "Topic #5: sam charlie woman movie young women man girl falls star\n",
      "Topic #6: tom jerry billy don causing window chris head vijay face\n",
      "Topic #7: police gang murder man money killed kill car case officer\n",
      "Topic #8: michael played eddie story film play dance told american girl\n",
      "Topic #9: king war army raj earth world group ship japanese battle\n",
      "\n"
     ]
    }
   ],
   "source": [
    "# Latent Dirichlet Allocation.\n",
    "lda = LatentDirichletAllocation(n_components=n_components, max_iter=5,learning_method='online',learning_offset=50,random_state=1)\n",
    "\n",
    "# Fit LDA.\n",
    "lda.fit(tfidf)\n",
    "\n",
    "# Print Top Words for Topics.\n",
    "tfidf_feature_names = tfidf_vectorizer.get_feature_names()\n",
    "print_top_words(lda, tfidf_feature_names, n_top_words)"
   ]
  },
  {
   "cell_type": "code",
   "execution_count": 99,
   "metadata": {},
   "outputs": [
    {
     "name": "stdout",
     "output_type": "stream",
     "text": [
      "Topic #0: father family man mother house police film son home tells\n",
      "Topic #1: family father mother son marriage village daughter married story marry\n",
      "Topic #2: film story war movie world young set played plot british\n",
      "Topic #3: village police son gang killed officer kill murder brother story\n",
      "Topic #4: police film murder money story car gang joe man house\n",
      "Topic #5: tom jerry wife husband man family john woman son young\n",
      "Topic #6: tom school father jerry gang police family team village students\n",
      "Topic #7: family film mother father son brother sam john paul death\n",
      "Topic #8: family village joe money brother new house jack job sam\n",
      "Topic #9: joe young village man father town jack john mother gang\n",
      "\n"
     ]
    }
   ],
   "source": [
    "# Singular Value Decomposition.\n",
    "svd = TruncatedSVD(n_components=n_components)\n",
    "\n",
    "# Fit SVD.\n",
    "svd.fit(tfidf)\n",
    "\n",
    "# Print Top Words for Topics.\n",
    "tfidf_feature_names = tfidf_vectorizer.get_feature_names()\n",
    "print_top_words(svd, tfidf_feature_names, n_top_words)"
   ]
  }
 ],
 "metadata": {
  "kernelspec": {
   "display_name": "Python 3",
   "language": "python",
   "name": "python3"
  },
  "language_info": {
   "codemirror_mode": {
    "name": "ipython",
    "version": 3
   },
   "file_extension": ".py",
   "mimetype": "text/x-python",
   "name": "python",
   "nbconvert_exporter": "python",
   "pygments_lexer": "ipython3",
   "version": "3.6.8"
  }
 },
 "nbformat": 4,
 "nbformat_minor": 2
}
