{
 "cells": [
  {
   "cell_type": "code",
   "execution_count": 73,
   "metadata": {},
   "outputs": [],
   "source": [
    "# Import Libraries.\n",
    "import numpy as np\n",
    "import pandas as pd\n",
    "from sklearn.feature_extraction.text import TfidfVectorizer, CountVectorizer\n",
    "from sklearn.decomposition import NMF, TruncatedSVD, LatentDirichletAllocation"
   ]
  },
  {
   "cell_type": "code",
   "execution_count": 2,
   "metadata": {},
   "outputs": [],
   "source": [
    "# Define Functions.\n",
    "def print_top_words(model, feature_names, n_top_words):\n",
    "    for topic_idx, topic in enumerate(model.components_):\n",
    "        message = \"Topic #%d: \" % topic_idx\n",
    "        message += \" \".join([feature_names[i]\n",
    "                             for i in topic.argsort()[:-n_top_words - 1:-1]])\n",
    "        print(message)\n",
    "    print()"
   ]
  },
  {
   "cell_type": "code",
   "execution_count": 3,
   "metadata": {},
   "outputs": [],
   "source": [
    "# Import Data.\n",
    "filename = 'wiki_movie_plots_deduped.csv'\n",
    "data = pd.read_csv(filename, sep=',',header=0,index_col=False)"
   ]
  },
  {
   "cell_type": "code",
   "execution_count": 60,
   "metadata": {},
   "outputs": [],
   "source": [
    "# Parameters.\n",
    "n_features = 2000 # amount of distinct words / vocabulary\n",
    "n_components = 10 # amount of topics\n",
    "n_top_words = 10 # highest frequency words in topics"
   ]
  },
  {
   "cell_type": "code",
   "execution_count": 67,
   "metadata": {},
   "outputs": [],
   "source": [
    "# Term Frequency-Inverse Document Frequency (Matrix Calculation).\n",
    "samples = data.Plot # text samples\n",
    "\n",
    "# Convert a collection of raw documents to a matrix of TF-IDF features (samples x features).\n",
    "# tf-idf: relative frequency of a word in a document weighted by the discriminancy of a word between document classes\n",
    "tfidf_vectorizer = TfidfVectorizer(max_df=0.30, min_df=2,max_features=n_features,stop_words='english')\n",
    "\n",
    "# Convert a collection of text documents to a matrix of token counts.\n",
    "#tf_vectorizer = CountVectorizer(max_df=0.95, min_df=4,max_features=n_features,stop_words='english')\n",
    "\n",
    "# Fit-Transform.\n",
    "tfidf = tfidf_vectorizer.fit_transform(samples) # samples x features \n",
    "# tf = tf_vectorizer.fit_transform(samples) # samples x features "
   ]
  },
  {
   "cell_type": "code",
   "execution_count": 69,
   "metadata": {},
   "outputs": [
    {
     "name": "stdout",
     "output_type": "stream",
     "text": [
      "Topic #0: years way tells young finds soon home night away takes\n",
      "Topic #1: son father family young years story wife mother daughter village\n",
      "Topic #2: work year york new job works home relationship old wants\n",
      "Topic #3: film story world young set people movie new years plot\n",
      "Topic #4: killed kill escape kills wounded men help killing using officer\n",
      "Topic #5: police murder working crime gang money man officer killed story\n",
      "Topic #6: war town small men new world joe young american man\n",
      "Topic #7: wife woman young man husband wealthy son john jack murder\n",
      "Topic #8: school year team friends student way high win teacher students\n",
      "Topic #9: wants turns wins king meets takes win wrong falls wedding\n",
      "\n"
     ]
    }
   ],
   "source": [
    "# Non-negative Matrix Factorization.\n",
    "nmf =  NMF(n_components=n_components, random_state=1,beta_loss='kullback-leibler', solver='mu', max_iter=1000, alpha=.4,l1_ratio=.5)\n",
    "\n",
    "# Fit NMF.\n",
    "nmf.fit(tfidf)\n",
    "\n",
    "# Print Top Words for Topics.\n",
    "tfidf_feature_names = tfidf_vectorizer.get_feature_names()\n",
    "print_top_words(nmf, tfidf_feature_names, n_top_words)"
   ]
  },
  {
   "cell_type": "code",
   "execution_count": 74,
   "metadata": {},
   "outputs": [
    {
     "name": "stdout",
     "output_type": "stream",
     "text": [
      "Topic #0: father family man mother film police son house wife home\n",
      "Topic #1: family father village son mother marriage daughter story married raja\n",
      "Topic #2: tom jerry cat joe mary house mother home family father\n",
      "Topic #3: film tom story village war jerry king world japanese british\n",
      "Topic #4: film school new jack joe relationship mary young year family\n",
      "Topic #5: film police story gang murder money inspector crime case movie\n",
      "Topic #6: joe village harry war villagers family town max jimmy son\n",
      "Topic #7: jack joe wife king film mary son family husband man\n",
      "Topic #8: jack raja joe school village team friends students college group\n",
      "Topic #9: family father war son brother police officer mother japanese gang\n",
      "\n"
     ]
    }
   ],
   "source": [
    "# Singular Value Decomposition.\n",
    "svd = TruncatedSVD(n_components=n_components)\n",
    "\n",
    "# Fit PCA.\n",
    "svd.fit(tfidf)\n",
    "\n",
    "# Print Top Words for Topics.\n",
    "tfidf_feature_names = tfidf_vectorizer.get_feature_names()\n",
    "print_top_words(svd, tfidf_feature_names, n_top_words)"
   ]
  },
  {
   "cell_type": "code",
   "execution_count": 68,
   "metadata": {},
   "outputs": [
    {
     "name": "stdout",
     "output_type": "stream",
     "text": [
      "Topic #0: charlie hong kong ramesh chan tiger sandy wong emotional following\n",
      "Topic #1: hari julie annie lily ellen andrew mafia prasad jennifer sandy\n",
      "Topic #2: father family son man mother film police story daughter wife\n",
      "Topic #3: linda christine diane craig bugs fbi karl wakes frank betty\n",
      "Topic #4: shankar film devi ashok karthik surya jai prem mafia pooja\n",
      "Topic #5: raju anna chris vicky kate wong jesse duke prem falls\n",
      "Topic #6: jane lisa kitty ken jonathan tribe lieutenant ho tracks disappears\n",
      "Topic #7: raja arjun ajay jenny mark khan rick emma wolf carl\n",
      "Topic #8: maggie jeff luke marcus harold dorothy witch mafia harry karan\n",
      "Topic #9: prakash arun madhu gopal jo amy laura bugs josh prem\n",
      "\n"
     ]
    }
   ],
   "source": [
    "# Latent Dirichlet Allocation.\n",
    "lda = LatentDirichletAllocation(n_components=n_components, max_iter=5,learning_method='online',learning_offset=50,random_state=1)\n",
    "\n",
    "# Fit LDA.\n",
    "lda.fit(tfidf)\n",
    "\n",
    "# Print Top Words for Topics.\n",
    "tfidf_feature_names = tfidf_vectorizer.get_feature_names()\n",
    "print_top_words(lda, tfidf_feature_names, n_top_words)"
   ]
  }
 ],
 "metadata": {
  "kernelspec": {
   "display_name": "Python 3",
   "language": "python",
   "name": "python3"
  },
  "language_info": {
   "codemirror_mode": {
    "name": "ipython",
    "version": 3
   },
   "file_extension": ".py",
   "mimetype": "text/x-python",
   "name": "python",
   "nbconvert_exporter": "python",
   "pygments_lexer": "ipython3",
   "version": "3.6.8"
  }
 },
 "nbformat": 4,
 "nbformat_minor": 2
}
